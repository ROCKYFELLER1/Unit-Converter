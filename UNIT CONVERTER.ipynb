{
 "cells": [
  {
   "cell_type": "code",
   "execution_count": 4,
   "id": "f9786c49",
   "metadata": {},
   "outputs": [
    {
     "name": "stdout",
     "output_type": "stream",
     "text": [
      "Convert from: m\n",
      " Convert to: cm\n",
      " value in m 100\n",
      "10000.0\n"
     ]
    }
   ],
   "source": [
    "Units = ['m', 'cm', 'mm', 'km', 'in']\n",
    "value = ''\n",
    "\n",
    "def distConvert(value):\n",
    "    result= ''\n",
    "    firstUnit = input(f'Convert from: ')\n",
    "    secondUnit = input(f' Convert to: ')\n",
    "    value =  input(f' value in {firstUnit} ')\n",
    "    if (firstUnit, secondUnit) == ('m', 'cm'):\n",
    "                   result = float(value) * 100\n",
    "    elif (firstUnit, secondUnit) == ('cm', 'm'):\n",
    "                   result = float(value)/100\n",
    "    elif (firstUnit, secondUnit) == ('km', 'm'):\n",
    "                   result = 1000 * float(value)\n",
    "    elif (firstUnit, secondUnit) == ('m', 'km'):\n",
    "                   result = float(value)/1000\n",
    "    elif (firstUnit, secondUnit) == ('cm', 'km'):\n",
    "                   result = float(value) * 0.00001\n",
    "    elif (firstUnit, secondUnit) == ('km', 'cm'):\n",
    "                   result = float(value)/0.00001\n",
    "    elif (firstUnit, secondUnit) == ('in', 'cm'):\n",
    "                   result =  float(value) * 2.54\n",
    "    elif (firstUnit, secondUnit) == ('cm', 'in'):\n",
    "                   result = float(value)/2.54\n",
    "    elif (firstUnit, secondUnit) == ('in', 'm'):\n",
    "                   result = float(value) * 0.0254\n",
    "    elif (firstUnit, secondUnit) == ('m', 'in'):\n",
    "                   result = float(value)/0.0254\n",
    "    elif (firstUnit, secondUnit) == ('in', 'km'):\n",
    "                   result = float(value) * 0.0000254\n",
    "    elif (firstUnit, secondUnit) == ('km', 'in'):\n",
    "                   result = float(value)/0.0000254\n",
    "    elif (firstUnit, secondUnit) == ('in', 'mm'):\n",
    "                   result = float(value) * 25.4\n",
    "    elif (firstUnit, secondUnit) == ('mm', 'in'):\n",
    "                   result = float(value)/25.4\n",
    "    elif (firstUnit, secondUnit) == ('mm', 'cm'):\n",
    "                   result = float(value) * 0.1\n",
    "    elif (firstUnit, secondUnit) == ('cm', 'mm'):\n",
    "                   result = float(value)/0.1\n",
    "    elif (firstUnit, secondUnit) == ('mm', 'm'):\n",
    "                   result = float(value) * 0.001\n",
    "    elif (firstUnit, secondUnit) == ('m', 'mm'):\n",
    "                   result = float(value)/0.001\n",
    "    elif (firstUnit, secondUnit) == ('mm', 'km'):\n",
    "                   result= float(value) * 0.000001\n",
    "    elif (firstUnit, secondUnit) == ('km', 'mm'):\n",
    "                   result = float(value)/0.000001\n",
    "                   print('Your conversion in', secondUnit, 'is:', result)\n",
    "    else:\n",
    "        print('Invalid unit entered!')\n",
    "    return result\n",
    "                   \n",
    "    \n",
    "convert = distConvert(value)\n",
    "print(convert)\n",
    "  "
   ]
  },
  {
   "cell_type": "code",
   "execution_count": null,
   "id": "1b4303f7",
   "metadata": {},
   "outputs": [],
   "source": [
    "m"
   ]
  }
 ],
 "metadata": {
  "kernelspec": {
   "display_name": "Python 3 (ipykernel)",
   "language": "python",
   "name": "python3"
  },
  "language_info": {
   "codemirror_mode": {
    "name": "ipython",
    "version": 3
   },
   "file_extension": ".py",
   "mimetype": "text/x-python",
   "name": "python",
   "nbconvert_exporter": "python",
   "pygments_lexer": "ipython3",
   "version": "3.9.12"
  }
 },
 "nbformat": 4,
 "nbformat_minor": 5
}
